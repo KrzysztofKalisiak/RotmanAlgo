{
 "cells": [
  {
   "cell_type": "code",
   "execution_count": 1,
   "metadata": {},
   "outputs": [
    {
     "name": "stderr",
     "output_type": "stream",
     "text": [
      "/home/krzyszof/Desktop/rotma/.venv/lib/python3.11/site-packages/statsforecast/core.py:25: TqdmWarning: IProgress not found. Please update jupyter and ipywidgets. See https://ipywidgets.readthedocs.io/en/stable/user_install.html\n",
      "  from tqdm.autonotebook import tqdm\n"
     ]
    }
   ],
   "source": [
    "import numba as nb\n",
    "import numpy as np\n",
    "import pandas as pd\n",
    "\n",
    "import matplotlib.pyplot as plt\n",
    "from tqdm import tqdm\n",
    "import itertools\n",
    "\n",
    "from statsforecast.models import ARIMA\n",
    "\n",
    "import warnings\n",
    "warnings.filterwarnings(\"ignore\")"
   ]
  },
  {
   "cell_type": "code",
   "execution_count": 2,
   "metadata": {},
   "outputs": [],
   "source": [
    "df = pd.read_csv('/home/krzyszof/Downloads/^SPX (1).csv').set_index('Date')\n",
    "df.index = pd.DatetimeIndex(df.index)"
   ]
  },
  {
   "cell_type": "code",
   "execution_count": 3,
   "metadata": {},
   "outputs": [],
   "source": [
    "def metrics(real, predicted, tr_c):\n",
    "\n",
    "    ret_real = (real[2:]/real[1:-1]) - 1\n",
    "    ret_predicted = (predicted[2:]/predicted[1:-1]) - 1\n",
    "\n",
    "    MSE = np.sum((real-predicted)**2)\n",
    "    MADL = np.sum(-np.sign(ret_real*ret_predicted)*ret_real)\n",
    "\n",
    "    usd = 1\n",
    "    ind = 0\n",
    "    usd_devaluated = np.empty(real.shape[0]-1)\n",
    "\n",
    "    for t in range(1, real.shape[0]):\n",
    "\n",
    "        if predicted[t] > real[t-1]*(1+tr_c):\n",
    "            ind += usd/(real[t-1]*(1+tr_c))\n",
    "            usd = 0\n",
    "        elif predicted[t] < real[t-1]/(1+tr_c):\n",
    "            usd += ind*real[t-1]/(1+tr_c)\n",
    "            ind = 0\n",
    "\n",
    "        usd_devaluated[t-1] = usd + ind*real[t-1]/(1+tr_c)\n",
    "    \n",
    "    usd += ind*real[-1]/(1+tr_c)\n",
    "    \n",
    "    algo_return = (usd_devaluated[1:]/usd_devaluated[:-1])-1\n",
    "    \n",
    "    usd += ind*real[-1]/(1+tr_c)\n",
    "    ind = 0\n",
    "    if usd-1>0:\n",
    "        ret_alg1 = ((usd-1)**(252/(real.shape[0]-1))) - 1\n",
    "    else:\n",
    "        ret_alg1 = np.nan\n",
    "    ret_alg2 = np.prod(1+algo_return)**(252/(real.shape[0]-1)) - 1\n",
    "\n",
    "    ret_std_alg = 252**(1/2) * np.std(algo_return)\n",
    "\n",
    "    IR = ret_alg2/(ret_std_alg+0.000001)\n",
    "\n",
    "    usd_devaluated_bh = np.empty(real.shape[0]-1)\n",
    "\n",
    "    ind = 1/(real[0]*(1+tr_c))\n",
    "    for t in range(1, real.shape[0]):\n",
    "        usd_devaluated_bh[t-1] = ind*real[t-1]/(1+tr_c)\n",
    "    usd = ind*real[-1]/(1+tr_c)\n",
    "\n",
    "    MD = np.min((usd_devaluated-usd_devaluated_bh)/usd_devaluated)\n",
    "\n",
    "    return MSE, MADL, ret_alg1, ret_alg2, ret_std_alg, IR, MD, usd_devaluated, usd_devaluated_bh\n"
   ]
  },
  {
   "cell_type": "code",
   "execution_count": 189,
   "metadata": {},
   "outputs": [],
   "source": [
    "class ModelARIMA:\n",
    "    def __init__(self, data, data_val, tr_c):\n",
    "\n",
    "        self.data = data\n",
    "        self.data_val = data_val\n",
    "        self.hiperparams_grid = {'p':[0], \n",
    "                                 'd':[1, 2, 3, 4, 5, 6, 7], \n",
    "                                 'q':[1, 2, 3, 4, 5, 6, 7]}\n",
    "    \n",
    "        self.tr_c = tr_c\n",
    "\n",
    "    def hiperparam_fit(self, criterion=('MADL', 'min')):\n",
    "\n",
    "        self.res = {}\n",
    "\n",
    "        _, values = zip(*self.hiperparams_grid.items())\n",
    "        perms_params = list(itertools.product(*values))\n",
    "\n",
    "        full_hist = np.concatenate((self.data, self.data_val))\n",
    "\n",
    "        for params in tqdm(perms_params):\n",
    "\n",
    "            ar_ = ARIMA(params)\n",
    "            ar_.fit(self.data)\n",
    "\n",
    "            predicted = np.empty(self.data_val.shape)\n",
    "            for t in range(self.data_val.shape[0]):\n",
    "                predicted[t] = ar_.forward(full_hist[:self.data.shape[0]+t], 1)['mean'][0]\n",
    "            \n",
    "            MSE, MADL, ARC1, ARC2, ASD, IR, MD, EQUITY, EQUITY_ben = metrics(\n",
    "                self.data_val, predicted, self.tr_c\n",
    "                )\n",
    "            \n",
    "            self.res[params] = {'MSE':MSE, \n",
    "                           'MADL':MADL, \n",
    "                           'ARC1':ARC1, \n",
    "                           'ARC2':ARC2, \n",
    "                           'ASD':ASD, \n",
    "                           'IR':IR, \n",
    "                           'MD':MD, \n",
    "                           'EQUITY':EQUITY, \n",
    "                           'EQUITY_ben':EQUITY_ben}\n",
    "            \n",
    "        best_params = [(k, self.res[k][criterion[0]]) for k in self.res]\n",
    "        if criterion[1] == 'max':\n",
    "            ml = -1\n",
    "        else:\n",
    "            ml = 1\n",
    "        best_hiper = sorted(best_params, key=lambda x: ml*x[1])[0][0]\n",
    "        self.model = ARIMA(best_hiper)\n",
    "        self.model.fit(full_hist)"
   ]
  },
  {
   "cell_type": "code",
   "execution_count": 205,
   "metadata": {},
   "outputs": [],
   "source": [
    "class Enviroment:\n",
    "    def __init__(self, data, tr_c):\n",
    "\n",
    "        self.tr_c = tr_c\n",
    "\n",
    "        self.data = data\n",
    "        \n",
    "    def split_data(self, initial_train_end, window_months):\n",
    "\n",
    "        intervals = pd.date_range(pd.to_datetime(initial_train_end), \n",
    "                                  self.data.index.max(), freq='%sm' % window_months)\n",
    "\n",
    "        self.data_feed = []\n",
    "        for train_stop, val_stop, test_stop in zip(intervals, intervals[1:], intervals[2:]):\n",
    "            self.data_feed.append((self.data[:train_stop], \n",
    "                              self.data[train_stop:val_stop], \n",
    "                              self.data[val_stop:test_stop]))\n",
    "        \n",
    "    def train_test_model_step(self):\n",
    "\n",
    "        self.res = []\n",
    "        self.models = []\n",
    "\n",
    "        for train, val, test in self.data_feed:\n",
    "\n",
    "            full_hist = np.concatenate((train, val, test))\n",
    "            \n",
    "            self.model = ModelARIMA(train.values, val.values, self.tr_c)\n",
    "\n",
    "            self.model.hiperparam_fit()\n",
    "\n",
    "            predicted = pd.Series(test.shape[0], index=test.index)\n",
    "            for t in range(test.shape[0]):\n",
    "                predicted[t] = self.model.model.forward(full_hist[:train.shape[0]+val.shape[0]+t], 1)['mean'][0]\n",
    "            \n",
    "            MSE, MADL, ARC1, ARC2, ASD, IR, MD, EQUITY, EQUITY_ben = metrics(\n",
    "                test.values, predicted.values, self.tr_c\n",
    "                )\n",
    "            \n",
    "            self.res.append({'MSE':MSE, \n",
    "                           'MADL':MADL, \n",
    "                           'ARC1':ARC1, \n",
    "                           'ARC2':ARC2, \n",
    "                           'ASD':ASD, \n",
    "                           'IR':IR, \n",
    "                           'MD':MD, \n",
    "                           'EQUITY':EQUITY, \n",
    "                           'EQUITY_ben':EQUITY_ben,\n",
    "                           'predicted':predicted,\n",
    "                           'real':test})\n",
    "            \n",
    "            self.models.append(self.model)\n",
    "\n",
    "        self.out_of_sample_predict = pd.concat([k['predicted'] for k in self.res])\n",
    "        self.out_of_sample_realized = pd.concat([k['real'] for k in self.res])\n",
    "\n",
    "        self.total_metrics = metrics(self.out_of_sample_realized, self.out_of_sample_predict, self.tr_c)"
   ]
  },
  {
   "cell_type": "code",
   "execution_count": 206,
   "metadata": {},
   "outputs": [],
   "source": [
    "env = Enviroment(df['Close'], 0.0005)"
   ]
  },
  {
   "cell_type": "code",
   "execution_count": 207,
   "metadata": {},
   "outputs": [],
   "source": [
    "env.split_data('1988-12-30', 6)"
   ]
  },
  {
   "cell_type": "code",
   "execution_count": 208,
   "metadata": {},
   "outputs": [
    {
     "name": "stderr",
     "output_type": "stream",
     "text": [
      "100%|██████████| 49/49 [00:10<00:00,  4.54it/s]\n",
      "100%|██████████| 49/49 [00:11<00:00,  4.45it/s]\n",
      "100%|██████████| 49/49 [00:11<00:00,  4.32it/s]\n",
      "100%|██████████| 49/49 [00:13<00:00,  3.66it/s]\n",
      "100%|██████████| 49/49 [00:15<00:00,  3.17it/s]\n"
     ]
    }
   ],
   "source": [
    "env.train_test_model_step()"
   ]
  },
  {
   "cell_type": "code",
   "execution_count": 210,
   "metadata": {},
   "outputs": [],
   "source": [
    "MSE, MADL, ARC1, ARC2, ASD, IR, MD, EQUITY, EQUITY_ben = env.total_metrics"
   ]
  },
  {
   "cell_type": "code",
   "execution_count": 221,
   "metadata": {},
   "outputs": [
    {
     "data": {
      "text/plain": [
       "[<matplotlib.lines.Line2D at 0x7f19b9011510>]"
      ]
     },
     "execution_count": 221,
     "metadata": {},
     "output_type": "execute_result"
    },
    {
     "data": {
      "image/png": "[encoded data removed]",
      "text/plain": [
       "<Figure size 640x480 with 1 Axes>"
      ]
     },
     "metadata": {},
     "output_type": "display_data"
    }
   ],
   "source": [
    "plt.plot(EQUITY)\n",
    "plt.plot(EQUITY_ben)"
   ]
  },
  {
   "cell_type": "code",
   "execution_count": 224,
   "metadata": {},
   "outputs": [
    {
     "data": {
      "text/plain": [
       "MSE     116967.065262\n",
       "MADL         0.000000\n",
       "ARC          0.074550\n",
       "ASD          0.101840\n",
       "IR           0.360996\n",
       "MD          -0.192362\n",
       "dtype: float64"
      ]
     },
     "execution_count": 224,
     "metadata": {},
     "output_type": "execute_result"
    }
   ],
   "source": [
    "pd.Series(data=[MSE, MADL, ARC1, ASD, IR, MD], index=['MSE', 'MADL', 'ARC', 'ASD', 'IR', 'MD'])"
   ]
  }
 ],
 "metadata": {
  "kernelspec": {
   "display_name": ".venv",
   "language": "python",
   "name": "python3"
  },
  "language_info": {
   "codemirror_mode": {
    "name": "ipython",
    "version": 3
   },
   "file_extension": ".py",
   "mimetype": "text/x-python",
   "name": "python",
   "nbconvert_exporter": "python",
   "pygments_lexer": "ipython3",
   "version": "3.11.6"
  }
 },
 "nbformat": 4,
 "nbformat_minor": 2
}
